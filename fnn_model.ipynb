{
 "cells": [
  {
   "cell_type": "code",
   "metadata": {
    "ExecuteTime": {
     "end_time": "2024-12-24T16:57:49.477246Z",
     "start_time": "2024-12-24T16:57:48.466425Z"
    }
   },
   "source": [
    "import kagglehub\n",
    "\n",
    "# Download latest version\n",
    "path = kagglehub.dataset_download(\"kk0105/allflowmeter-hikari2021\")\n",
    "\n",
    "print(\"Path to dataset files:\", path)\n"
   ],
   "outputs": [
    {
     "name": "stderr",
     "output_type": "stream",
     "text": [
      "D:\\Dunia Perkuliahan\\Semester 5\\Deep Learning\\env\\lib\\site-packages\\requests\\__init__.py:86: RequestsDependencyWarning: Unable to find acceptable character detection dependency (chardet or charset_normalizer).\n",
      "  warnings.warn(\n",
      "D:\\Dunia Perkuliahan\\Semester 5\\Deep Learning\\env\\lib\\site-packages\\tqdm\\auto.py:21: TqdmWarning: IProgress not found. Please update jupyter and ipywidgets. See https://ipywidgets.readthedocs.io/en/stable/user_install.html\n",
      "  from .autonotebook import tqdm as notebook_tqdm\n"
     ]
    },
    {
     "name": "stdout",
     "output_type": "stream",
     "text": [
      "Warning: Looks like you're using an outdated `kagglehub` version (installed: 0.3.5), please consider upgrading to the latest version (0.3.6).\n",
      "Path to dataset files: C:\\Users\\USER\\.cache\\kagglehub\\datasets\\kk0105\\allflowmeter-hikari2021\\versions\\1\n"
     ]
    }
   ],
   "execution_count": 1
  },
  {
   "metadata": {},
   "cell_type": "code",
   "outputs": [],
   "execution_count": null,
   "source": ""
  },
  {
   "metadata": {
    "ExecuteTime": {
     "end_time": "2024-12-24T17:00:19.993717Z",
     "start_time": "2024-12-24T17:00:19.980744Z"
    }
   },
   "cell_type": "code",
   "source": [
    "import os\n",
    "\n",
    "dataset_path = r'C:\\Users\\USER\\.cache\\kagglehub\\datasets\\kk0105\\allflowmeter-hikari2021\\versions\\1'\n",
    "\n",
    "files = os.listdir(dataset_path)\n",
    "\n",
    "print(\"File yang ada di dalam folder dataset:\")\n",
    "print(files)"
   ],
   "outputs": [
    {
     "name": "stdout",
     "output_type": "stream",
     "text": [
      "File yang ada di dalam folder dataset:\n",
      "['ALLFLOWMETER_HIKARI2021.csv']\n"
     ]
    }
   ],
   "execution_count": 2
  },
  {
   "metadata": {
    "ExecuteTime": {
     "end_time": "2024-12-24T17:00:29.088178Z",
     "start_time": "2024-12-24T17:00:22.266583Z"
    }
   },
   "cell_type": "code",
   "source": [
    "import pandas as pd\n",
    "\n",
    "# Ganti nama file sesuai dengan yang ada di folder\n",
    "csv_file_path = os.path.join(dataset_path, 'ALLFLOWMETER_HIKARI2021.csv')\n",
    "\n",
    "# Membaca file CSV\n",
    "df = pd.read_csv(csv_file_path)\n",
    "print(df.head())"
   ],
   "outputs": [
    {
     "name": "stdout",
     "output_type": "stream",
     "text": [
      "   Unnamed: 0.1  Unnamed: 0                 uid        originh  originp  \\\n",
      "0             0           0   Cg61Jch3vdz9DBptj  103.255.15.23    13316   \n",
      "1             1           1   CdRIlqLWdj35Y9vW9  103.255.15.23    13318   \n",
      "2             2           2   CLzp9Khd0Y09Qkgrg  103.255.15.23    13320   \n",
      "3             3           3  Cnf1YA4iLB4CSNWB88  103.255.15.23    13322   \n",
      "4             4           4  C4ZKvv3fpO72EAOsJ6  103.255.15.23    13324   \n",
      "\n",
      "           responh  responp  flow_duration  fwd_pkts_tot  bwd_pkts_tot  ...  \\\n",
      "0  128.199.242.104      443       2.207588            15            14  ...   \n",
      "1  128.199.242.104      443      15.624266            15            14  ...   \n",
      "2  128.199.242.104      443      12.203357            14            13  ...   \n",
      "3  128.199.242.104      443       9.992448            14            13  ...   \n",
      "4  128.199.242.104      443       7.780611            14            14  ...   \n",
      "\n",
      "       idle.min      idle.max      idle.tot      idle.avg  idle.std  \\\n",
      "0  0.000000e+00  0.000000e+00  0.000000e+00  0.000000e+00       0.0   \n",
      "1  1.534300e+07  1.534300e+07  1.534300e+07  1.534300e+07       0.0   \n",
      "2  1.196814e+07  1.196814e+07  1.196814e+07  1.196814e+07       0.0   \n",
      "3  9.759205e+06  9.759205e+06  9.759205e+06  9.759205e+06       0.0   \n",
      "4  7.545305e+06  7.545305e+06  7.545305e+06  7.545305e+06       0.0   \n",
      "\n",
      "   fwd_init_window_size  bwd_init_window_size  fwd_last_window_size  \\\n",
      "0                 29200                 65160                     0   \n",
      "1                 29200                 65160                     0   \n",
      "2                 29200                 65160                     0   \n",
      "3                 29200                 65160                     0   \n",
      "4                 29200                 65160                     0   \n",
      "\n",
      "   traffic_category  Label  \n",
      "0    Bruteforce-XML      1  \n",
      "1    Bruteforce-XML      1  \n",
      "2    Bruteforce-XML      1  \n",
      "3    Bruteforce-XML      1  \n",
      "4    Bruteforce-XML      1  \n",
      "\n",
      "[5 rows x 88 columns]\n"
     ]
    }
   ],
   "execution_count": 3
  },
  {
   "metadata": {
    "ExecuteTime": {
     "end_time": "2024-12-24T17:37:57.696482Z",
     "start_time": "2024-12-24T17:37:57.687510Z"
    }
   },
   "cell_type": "code",
   "source": "",
   "outputs": [],
   "execution_count": null
  },
  {
   "metadata": {
    "ExecuteTime": {
     "end_time": "2024-12-24T17:37:49.815955Z",
     "start_time": "2024-12-24T17:37:49.801988Z"
    }
   },
   "cell_type": "code",
   "source": "",
   "outputs": [],
   "execution_count": null
  },
  {
   "metadata": {
    "ExecuteTime": {
     "end_time": "2024-12-16T12:24:30.843176Z",
     "start_time": "2024-12-16T12:24:30.831164Z"
    }
   },
   "cell_type": "code",
   "source": "",
   "outputs": [],
   "execution_count": null
  },
  {
   "cell_type": "code",
   "metadata": {
    "ExecuteTime": {
     "end_time": "2024-12-16T12:24:30.905433Z",
     "start_time": "2024-12-16T12:24:30.891476Z"
    }
   },
   "source": "",
   "outputs": [],
   "execution_count": null
  },
  {
   "metadata": {
    "ExecuteTime": {
     "end_time": "2024-12-24T17:32:13.748157Z",
     "start_time": "2024-12-24T17:32:13.350607Z"
    }
   },
   "cell_type": "code",
   "source": [
    "# Menampilkan kolom bertipe object\n",
    "object_columns = df.select_dtypes(include=['object']).columns\n",
    "print(\"Kolom bertipe object:\", object_columns)\n",
    "\n",
    "# Menghapus semua kolom bertipe object kecuali 'traffic_category'\n",
    "columns_to_drop = object_columns.drop('traffic_category')  # Drop 'traffic_category' dari daftar kolom yang akan dihapus\n",
    "df = df.drop(columns_to_drop, axis=1)\n",
    "\n",
    "# Menampilkan informasi dataframe setelah penghapusan kolom\n",
    "print(\"\\nKolom setelah penghapusan, kecuali 'traffic_category':\")\n",
    "print(df.info())\n"
   ],
   "outputs": [
    {
     "name": "stdout",
     "output_type": "stream",
     "text": [
      "Kolom bertipe object: Index(['uid', 'originh', 'responh', 'traffic_category'], dtype='object')\n",
      "\n",
      "Kolom setelah penghapusan, kecuali 'traffic_category':\n",
      "<class 'pandas.core.frame.DataFrame'>\n",
      "RangeIndex: 555278 entries, 0 to 555277\n",
      "Data columns (total 85 columns):\n",
      " #   Column                    Non-Null Count   Dtype  \n",
      "---  ------                    --------------   -----  \n",
      " 0   Unnamed: 0.1              555278 non-null  int64  \n",
      " 1   Unnamed: 0                555278 non-null  int64  \n",
      " 2   originp                   555278 non-null  int64  \n",
      " 3   responp                   555278 non-null  int64  \n",
      " 4   flow_duration             555278 non-null  float64\n",
      " 5   fwd_pkts_tot              555278 non-null  int64  \n",
      " 6   bwd_pkts_tot              555278 non-null  int64  \n",
      " 7   fwd_data_pkts_tot         555278 non-null  int64  \n",
      " 8   bwd_data_pkts_tot         555278 non-null  int64  \n",
      " 9   fwd_pkts_per_sec          555278 non-null  float64\n",
      " 10  bwd_pkts_per_sec          555278 non-null  float64\n",
      " 11  flow_pkts_per_sec         555278 non-null  float64\n",
      " 12  down_up_ratio             555278 non-null  float64\n",
      " 13  fwd_header_size_tot       555278 non-null  int64  \n",
      " 14  fwd_header_size_min       555278 non-null  int64  \n",
      " 15  fwd_header_size_max       555278 non-null  int64  \n",
      " 16  bwd_header_size_tot       555278 non-null  int64  \n",
      " 17  bwd_header_size_min       555278 non-null  int64  \n",
      " 18  bwd_header_size_max       555278 non-null  int64  \n",
      " 19  flow_FIN_flag_count       555278 non-null  int64  \n",
      " 20  flow_SYN_flag_count       555278 non-null  int64  \n",
      " 21  flow_RST_flag_count       555278 non-null  int64  \n",
      " 22  fwd_PSH_flag_count        555278 non-null  int64  \n",
      " 23  bwd_PSH_flag_count        555278 non-null  int64  \n",
      " 24  flow_ACK_flag_count       555278 non-null  int64  \n",
      " 25  fwd_URG_flag_count        555278 non-null  int64  \n",
      " 26  bwd_URG_flag_count        555278 non-null  int64  \n",
      " 27  flow_CWR_flag_count       555278 non-null  int64  \n",
      " 28  flow_ECE_flag_count       555278 non-null  int64  \n",
      " 29  fwd_pkts_payload.min      555278 non-null  float64\n",
      " 30  fwd_pkts_payload.max      555278 non-null  float64\n",
      " 31  fwd_pkts_payload.tot      555278 non-null  float64\n",
      " 32  fwd_pkts_payload.avg      555278 non-null  float64\n",
      " 33  fwd_pkts_payload.std      555278 non-null  float64\n",
      " 34  bwd_pkts_payload.min      555278 non-null  float64\n",
      " 35  bwd_pkts_payload.max      555278 non-null  float64\n",
      " 36  bwd_pkts_payload.tot      555278 non-null  float64\n",
      " 37  bwd_pkts_payload.avg      555278 non-null  float64\n",
      " 38  bwd_pkts_payload.std      555278 non-null  float64\n",
      " 39  flow_pkts_payload.min     555278 non-null  float64\n",
      " 40  flow_pkts_payload.max     555278 non-null  float64\n",
      " 41  flow_pkts_payload.tot     555278 non-null  float64\n",
      " 42  flow_pkts_payload.avg     555278 non-null  float64\n",
      " 43  flow_pkts_payload.std     555278 non-null  float64\n",
      " 44  fwd_iat.min               555278 non-null  float64\n",
      " 45  fwd_iat.max               555278 non-null  float64\n",
      " 46  fwd_iat.tot               555278 non-null  float64\n",
      " 47  fwd_iat.avg               555278 non-null  float64\n",
      " 48  fwd_iat.std               555278 non-null  float64\n",
      " 49  bwd_iat.min               555278 non-null  float64\n",
      " 50  bwd_iat.max               555278 non-null  float64\n",
      " 51  bwd_iat.tot               555278 non-null  float64\n",
      " 52  bwd_iat.avg               555278 non-null  float64\n",
      " 53  bwd_iat.std               555278 non-null  float64\n",
      " 54  flow_iat.min              555278 non-null  float64\n",
      " 55  flow_iat.max              555278 non-null  float64\n",
      " 56  flow_iat.tot              555278 non-null  float64\n",
      " 57  flow_iat.avg              555278 non-null  float64\n",
      " 58  flow_iat.std              555278 non-null  float64\n",
      " 59  payload_bytes_per_second  555278 non-null  float64\n",
      " 60  fwd_subflow_pkts          555278 non-null  float64\n",
      " 61  bwd_subflow_pkts          555278 non-null  float64\n",
      " 62  fwd_subflow_bytes         555278 non-null  float64\n",
      " 63  bwd_subflow_bytes         555278 non-null  float64\n",
      " 64  fwd_bulk_bytes            555278 non-null  float64\n",
      " 65  bwd_bulk_bytes            555278 non-null  float64\n",
      " 66  fwd_bulk_packets          555278 non-null  float64\n",
      " 67  bwd_bulk_packets          555278 non-null  float64\n",
      " 68  fwd_bulk_rate             555278 non-null  float64\n",
      " 69  bwd_bulk_rate             555278 non-null  float64\n",
      " 70  active.min                555278 non-null  float64\n",
      " 71  active.max                555278 non-null  float64\n",
      " 72  active.tot                555278 non-null  float64\n",
      " 73  active.avg                555278 non-null  float64\n",
      " 74  active.std                555278 non-null  float64\n",
      " 75  idle.min                  555278 non-null  float64\n",
      " 76  idle.max                  555278 non-null  float64\n",
      " 77  idle.tot                  555278 non-null  float64\n",
      " 78  idle.avg                  555278 non-null  float64\n",
      " 79  idle.std                  555278 non-null  float64\n",
      " 80  fwd_init_window_size      555278 non-null  int64  \n",
      " 81  bwd_init_window_size      555278 non-null  int64  \n",
      " 82  fwd_last_window_size      555278 non-null  int64  \n",
      " 83  traffic_category          555278 non-null  object \n",
      " 84  Label                     555278 non-null  int64  \n",
      "dtypes: float64(56), int64(28), object(1)\n",
      "memory usage: 360.1+ MB\n",
      "None\n"
     ]
    }
   ],
   "execution_count": 10
  },
  {
   "cell_type": "code",
   "metadata": {
    "ExecuteTime": {
     "end_time": "2024-12-16T12:24:31.260757Z",
     "start_time": "2024-12-16T12:24:31.247932Z"
    }
   },
   "source": "",
   "outputs": [],
   "execution_count": null
  },
  {
   "cell_type": "code",
   "metadata": {
    "ExecuteTime": {
     "end_time": "2024-12-24T17:32:26.372375Z",
     "start_time": "2024-12-24T17:32:26.332073Z"
    }
   },
   "source": "print(df['traffic_category'].unique())",
   "outputs": [
    {
     "name": "stdout",
     "output_type": "stream",
     "text": [
      "['Bruteforce-XML' 'Bruteforce' 'Background' 'Benign' 'Probing'\n",
      " 'XMRIGCC CryptoMiner']\n"
     ]
    }
   ],
   "execution_count": 11
  },
  {
   "cell_type": "code",
   "metadata": {
    "ExecuteTime": {
     "end_time": "2024-12-16T12:24:31.431666Z",
     "start_time": "2024-12-16T12:24:31.402827Z"
    }
   },
   "source": "",
   "outputs": [
    {
     "data": {
      "text/plain": [
       "   Unnamed: 0.1  Unnamed: 0  originp  responp  flow_duration  fwd_pkts_tot  \\\n",
       "0             0           0    13316      443       2.207588            15   \n",
       "1             1           1    13318      443      15.624266            15   \n",
       "2             2           2    13320      443      12.203357            14   \n",
       "3             3           3    13322      443       9.992448            14   \n",
       "4             4           4    13324      443       7.780611            14   \n",
       "\n",
       "   bwd_pkts_tot  fwd_data_pkts_tot  bwd_data_pkts_tot  fwd_pkts_per_sec  ...  \\\n",
       "0            14                  6                  6          6.794746  ...   \n",
       "1            14                  6                  6          0.960045  ...   \n",
       "2            13                  6                  5          1.147225  ...   \n",
       "3            13                  6                  5          1.401058  ...   \n",
       "4            14                  6                  5          1.799345  ...   \n",
       "\n",
       "       idle.min      idle.max      idle.tot      idle.avg  idle.std  \\\n",
       "0  0.000000e+00  0.000000e+00  0.000000e+00  0.000000e+00       0.0   \n",
       "1  1.534300e+07  1.534300e+07  1.534300e+07  1.534300e+07       0.0   \n",
       "2  1.196814e+07  1.196814e+07  1.196814e+07  1.196814e+07       0.0   \n",
       "3  9.759205e+06  9.759205e+06  9.759205e+06  9.759205e+06       0.0   \n",
       "4  7.545305e+06  7.545305e+06  7.545305e+06  7.545305e+06       0.0   \n",
       "\n",
       "   fwd_init_window_size  bwd_init_window_size  fwd_last_window_size  \\\n",
       "0                 29200                 65160                     0   \n",
       "1                 29200                 65160                     0   \n",
       "2                 29200                 65160                     0   \n",
       "3                 29200                 65160                     0   \n",
       "4                 29200                 65160                     0   \n",
       "\n",
       "   traffic_category  Label  \n",
       "0    Bruteforce-XML      1  \n",
       "1    Bruteforce-XML      1  \n",
       "2    Bruteforce-XML      1  \n",
       "3    Bruteforce-XML      1  \n",
       "4    Bruteforce-XML      1  \n",
       "\n",
       "[5 rows x 85 columns]"
      ],
      "text/html": [
       "<div>\n",
       "<style scoped>\n",
       "    .dataframe tbody tr th:only-of-type {\n",
       "        vertical-align: middle;\n",
       "    }\n",
       "\n",
       "    .dataframe tbody tr th {\n",
       "        vertical-align: top;\n",
       "    }\n",
       "\n",
       "    .dataframe thead th {\n",
       "        text-align: right;\n",
       "    }\n",
       "</style>\n",
       "<table border=\"1\" class=\"dataframe\">\n",
       "  <thead>\n",
       "    <tr style=\"text-align: right;\">\n",
       "      <th></th>\n",
       "      <th>Unnamed: 0.1</th>\n",
       "      <th>Unnamed: 0</th>\n",
       "      <th>originp</th>\n",
       "      <th>responp</th>\n",
       "      <th>flow_duration</th>\n",
       "      <th>fwd_pkts_tot</th>\n",
       "      <th>bwd_pkts_tot</th>\n",
       "      <th>fwd_data_pkts_tot</th>\n",
       "      <th>bwd_data_pkts_tot</th>\n",
       "      <th>fwd_pkts_per_sec</th>\n",
       "      <th>...</th>\n",
       "      <th>idle.min</th>\n",
       "      <th>idle.max</th>\n",
       "      <th>idle.tot</th>\n",
       "      <th>idle.avg</th>\n",
       "      <th>idle.std</th>\n",
       "      <th>fwd_init_window_size</th>\n",
       "      <th>bwd_init_window_size</th>\n",
       "      <th>fwd_last_window_size</th>\n",
       "      <th>traffic_category</th>\n",
       "      <th>Label</th>\n",
       "    </tr>\n",
       "  </thead>\n",
       "  <tbody>\n",
       "    <tr>\n",
       "      <th>0</th>\n",
       "      <td>0</td>\n",
       "      <td>0</td>\n",
       "      <td>13316</td>\n",
       "      <td>443</td>\n",
       "      <td>2.207588</td>\n",
       "      <td>15</td>\n",
       "      <td>14</td>\n",
       "      <td>6</td>\n",
       "      <td>6</td>\n",
       "      <td>6.794746</td>\n",
       "      <td>...</td>\n",
       "      <td>0.000000e+00</td>\n",
       "      <td>0.000000e+00</td>\n",
       "      <td>0.000000e+00</td>\n",
       "      <td>0.000000e+00</td>\n",
       "      <td>0.0</td>\n",
       "      <td>29200</td>\n",
       "      <td>65160</td>\n",
       "      <td>0</td>\n",
       "      <td>Bruteforce-XML</td>\n",
       "      <td>1</td>\n",
       "    </tr>\n",
       "    <tr>\n",
       "      <th>1</th>\n",
       "      <td>1</td>\n",
       "      <td>1</td>\n",
       "      <td>13318</td>\n",
       "      <td>443</td>\n",
       "      <td>15.624266</td>\n",
       "      <td>15</td>\n",
       "      <td>14</td>\n",
       "      <td>6</td>\n",
       "      <td>6</td>\n",
       "      <td>0.960045</td>\n",
       "      <td>...</td>\n",
       "      <td>1.534300e+07</td>\n",
       "      <td>1.534300e+07</td>\n",
       "      <td>1.534300e+07</td>\n",
       "      <td>1.534300e+07</td>\n",
       "      <td>0.0</td>\n",
       "      <td>29200</td>\n",
       "      <td>65160</td>\n",
       "      <td>0</td>\n",
       "      <td>Bruteforce-XML</td>\n",
       "      <td>1</td>\n",
       "    </tr>\n",
       "    <tr>\n",
       "      <th>2</th>\n",
       "      <td>2</td>\n",
       "      <td>2</td>\n",
       "      <td>13320</td>\n",
       "      <td>443</td>\n",
       "      <td>12.203357</td>\n",
       "      <td>14</td>\n",
       "      <td>13</td>\n",
       "      <td>6</td>\n",
       "      <td>5</td>\n",
       "      <td>1.147225</td>\n",
       "      <td>...</td>\n",
       "      <td>1.196814e+07</td>\n",
       "      <td>1.196814e+07</td>\n",
       "      <td>1.196814e+07</td>\n",
       "      <td>1.196814e+07</td>\n",
       "      <td>0.0</td>\n",
       "      <td>29200</td>\n",
       "      <td>65160</td>\n",
       "      <td>0</td>\n",
       "      <td>Bruteforce-XML</td>\n",
       "      <td>1</td>\n",
       "    </tr>\n",
       "    <tr>\n",
       "      <th>3</th>\n",
       "      <td>3</td>\n",
       "      <td>3</td>\n",
       "      <td>13322</td>\n",
       "      <td>443</td>\n",
       "      <td>9.992448</td>\n",
       "      <td>14</td>\n",
       "      <td>13</td>\n",
       "      <td>6</td>\n",
       "      <td>5</td>\n",
       "      <td>1.401058</td>\n",
       "      <td>...</td>\n",
       "      <td>9.759205e+06</td>\n",
       "      <td>9.759205e+06</td>\n",
       "      <td>9.759205e+06</td>\n",
       "      <td>9.759205e+06</td>\n",
       "      <td>0.0</td>\n",
       "      <td>29200</td>\n",
       "      <td>65160</td>\n",
       "      <td>0</td>\n",
       "      <td>Bruteforce-XML</td>\n",
       "      <td>1</td>\n",
       "    </tr>\n",
       "    <tr>\n",
       "      <th>4</th>\n",
       "      <td>4</td>\n",
       "      <td>4</td>\n",
       "      <td>13324</td>\n",
       "      <td>443</td>\n",
       "      <td>7.780611</td>\n",
       "      <td>14</td>\n",
       "      <td>14</td>\n",
       "      <td>6</td>\n",
       "      <td>5</td>\n",
       "      <td>1.799345</td>\n",
       "      <td>...</td>\n",
       "      <td>7.545305e+06</td>\n",
       "      <td>7.545305e+06</td>\n",
       "      <td>7.545305e+06</td>\n",
       "      <td>7.545305e+06</td>\n",
       "      <td>0.0</td>\n",
       "      <td>29200</td>\n",
       "      <td>65160</td>\n",
       "      <td>0</td>\n",
       "      <td>Bruteforce-XML</td>\n",
       "      <td>1</td>\n",
       "    </tr>\n",
       "  </tbody>\n",
       "</table>\n",
       "<p>5 rows × 85 columns</p>\n",
       "</div>"
      ]
     },
     "execution_count": 76,
     "metadata": {},
     "output_type": "execute_result"
    }
   ],
   "execution_count": 76
  },
  {
   "cell_type": "code",
   "metadata": {
    "ExecuteTime": {
     "end_time": "2024-12-16T12:24:31.552847Z",
     "start_time": "2024-12-16T12:24:31.539894Z"
    }
   },
   "source": "",
   "outputs": [],
   "execution_count": null
  },
  {
   "cell_type": "code",
   "metadata": {
    "ExecuteTime": {
     "end_time": "2024-12-16T12:24:31.770252Z",
     "start_time": "2024-12-16T12:24:31.647642Z"
    }
   },
   "source": "",
   "outputs": [
    {
     "name": "stdout",
     "output_type": "stream",
     "text": [
      "<class 'pandas.core.frame.DataFrame'>\n",
      "RangeIndex: 555278 entries, 0 to 555277\n",
      "Data columns (total 85 columns):\n",
      " #   Column                    Non-Null Count   Dtype  \n",
      "---  ------                    --------------   -----  \n",
      " 0   Unnamed: 0.1              555278 non-null  int64  \n",
      " 1   Unnamed: 0                555278 non-null  int64  \n",
      " 2   originp                   555278 non-null  int64  \n",
      " 3   responp                   555278 non-null  int64  \n",
      " 4   flow_duration             555278 non-null  float64\n",
      " 5   fwd_pkts_tot              555278 non-null  int64  \n",
      " 6   bwd_pkts_tot              555278 non-null  int64  \n",
      " 7   fwd_data_pkts_tot         555278 non-null  int64  \n",
      " 8   bwd_data_pkts_tot         555278 non-null  int64  \n",
      " 9   fwd_pkts_per_sec          555278 non-null  float64\n",
      " 10  bwd_pkts_per_sec          555278 non-null  float64\n",
      " 11  flow_pkts_per_sec         555278 non-null  float64\n",
      " 12  down_up_ratio             555278 non-null  float64\n",
      " 13  fwd_header_size_tot       555278 non-null  int64  \n",
      " 14  fwd_header_size_min       555278 non-null  int64  \n",
      " 15  fwd_header_size_max       555278 non-null  int64  \n",
      " 16  bwd_header_size_tot       555278 non-null  int64  \n",
      " 17  bwd_header_size_min       555278 non-null  int64  \n",
      " 18  bwd_header_size_max       555278 non-null  int64  \n",
      " 19  flow_FIN_flag_count       555278 non-null  int64  \n",
      " 20  flow_SYN_flag_count       555278 non-null  int64  \n",
      " 21  flow_RST_flag_count       555278 non-null  int64  \n",
      " 22  fwd_PSH_flag_count        555278 non-null  int64  \n",
      " 23  bwd_PSH_flag_count        555278 non-null  int64  \n",
      " 24  flow_ACK_flag_count       555278 non-null  int64  \n",
      " 25  fwd_URG_flag_count        555278 non-null  int64  \n",
      " 26  bwd_URG_flag_count        555278 non-null  int64  \n",
      " 27  flow_CWR_flag_count       555278 non-null  int64  \n",
      " 28  flow_ECE_flag_count       555278 non-null  int64  \n",
      " 29  fwd_pkts_payload.min      555278 non-null  float64\n",
      " 30  fwd_pkts_payload.max      555278 non-null  float64\n",
      " 31  fwd_pkts_payload.tot      555278 non-null  float64\n",
      " 32  fwd_pkts_payload.avg      555278 non-null  float64\n",
      " 33  fwd_pkts_payload.std      555278 non-null  float64\n",
      " 34  bwd_pkts_payload.min      555278 non-null  float64\n",
      " 35  bwd_pkts_payload.max      555278 non-null  float64\n",
      " 36  bwd_pkts_payload.tot      555278 non-null  float64\n",
      " 37  bwd_pkts_payload.avg      555278 non-null  float64\n",
      " 38  bwd_pkts_payload.std      555278 non-null  float64\n",
      " 39  flow_pkts_payload.min     555278 non-null  float64\n",
      " 40  flow_pkts_payload.max     555278 non-null  float64\n",
      " 41  flow_pkts_payload.tot     555278 non-null  float64\n",
      " 42  flow_pkts_payload.avg     555278 non-null  float64\n",
      " 43  flow_pkts_payload.std     555278 non-null  float64\n",
      " 44  fwd_iat.min               555278 non-null  float64\n",
      " 45  fwd_iat.max               555278 non-null  float64\n",
      " 46  fwd_iat.tot               555278 non-null  float64\n",
      " 47  fwd_iat.avg               555278 non-null  float64\n",
      " 48  fwd_iat.std               555278 non-null  float64\n",
      " 49  bwd_iat.min               555278 non-null  float64\n",
      " 50  bwd_iat.max               555278 non-null  float64\n",
      " 51  bwd_iat.tot               555278 non-null  float64\n",
      " 52  bwd_iat.avg               555278 non-null  float64\n",
      " 53  bwd_iat.std               555278 non-null  float64\n",
      " 54  flow_iat.min              555278 non-null  float64\n",
      " 55  flow_iat.max              555278 non-null  float64\n",
      " 56  flow_iat.tot              555278 non-null  float64\n",
      " 57  flow_iat.avg              555278 non-null  float64\n",
      " 58  flow_iat.std              555278 non-null  float64\n",
      " 59  payload_bytes_per_second  555278 non-null  float64\n",
      " 60  fwd_subflow_pkts          555278 non-null  float64\n",
      " 61  bwd_subflow_pkts          555278 non-null  float64\n",
      " 62  fwd_subflow_bytes         555278 non-null  float64\n",
      " 63  bwd_subflow_bytes         555278 non-null  float64\n",
      " 64  fwd_bulk_bytes            555278 non-null  float64\n",
      " 65  bwd_bulk_bytes            555278 non-null  float64\n",
      " 66  fwd_bulk_packets          555278 non-null  float64\n",
      " 67  bwd_bulk_packets          555278 non-null  float64\n",
      " 68  fwd_bulk_rate             555278 non-null  float64\n",
      " 69  bwd_bulk_rate             555278 non-null  float64\n",
      " 70  active.min                555278 non-null  float64\n",
      " 71  active.max                555278 non-null  float64\n",
      " 72  active.tot                555278 non-null  float64\n",
      " 73  active.avg                555278 non-null  float64\n",
      " 74  active.std                555278 non-null  float64\n",
      " 75  idle.min                  555278 non-null  float64\n",
      " 76  idle.max                  555278 non-null  float64\n",
      " 77  idle.tot                  555278 non-null  float64\n",
      " 78  idle.avg                  555278 non-null  float64\n",
      " 79  idle.std                  555278 non-null  float64\n",
      " 80  fwd_init_window_size      555278 non-null  int64  \n",
      " 81  bwd_init_window_size      555278 non-null  int64  \n",
      " 82  fwd_last_window_size      555278 non-null  int64  \n",
      " 83  traffic_category          555278 non-null  object \n",
      " 84  Label                     555278 non-null  int64  \n",
      "dtypes: float64(56), int64(28), object(1)\n",
      "memory usage: 360.1+ MB\n",
      "None\n"
     ]
    }
   ],
   "execution_count": 77
  },
  {
   "metadata": {
    "ExecuteTime": {
     "end_time": "2024-12-16T12:24:31.800783Z",
     "start_time": "2024-12-16T12:24:31.789670Z"
    }
   },
   "cell_type": "code",
   "source": "",
   "outputs": [
    {
     "data": {
      "text/plain": [
       "(555278, 85)"
      ]
     },
     "execution_count": 78,
     "metadata": {},
     "output_type": "execute_result"
    }
   ],
   "execution_count": 78
  },
  {
   "cell_type": "code",
   "metadata": {
    "ExecuteTime": {
     "end_time": "2024-12-24T17:32:41.530812Z",
     "start_time": "2024-12-24T17:32:41.390718Z"
    }
   },
   "source": [
    "df.isnull().sum()"
   ],
   "outputs": [
    {
     "data": {
      "text/plain": [
       "Unnamed: 0.1            0\n",
       "Unnamed: 0              0\n",
       "originp                 0\n",
       "responp                 0\n",
       "flow_duration           0\n",
       "                       ..\n",
       "fwd_init_window_size    0\n",
       "bwd_init_window_size    0\n",
       "fwd_last_window_size    0\n",
       "traffic_category        0\n",
       "Label                   0\n",
       "Length: 85, dtype: int64"
      ]
     },
     "execution_count": 12,
     "metadata": {},
     "output_type": "execute_result"
    }
   ],
   "execution_count": 12
  },
  {
   "metadata": {
    "ExecuteTime": {
     "end_time": "2024-12-24T17:32:54.954767Z",
     "start_time": "2024-12-24T17:32:46.705141Z"
    }
   },
   "cell_type": "code",
   "source": [
    "import pandas as pd\n",
    "from sklearn.model_selection import train_test_split\n",
    "from sklearn.preprocessing import LabelEncoder\n",
    "from tensorflow.keras.models import Sequential\n",
    "from tensorflow.keras.layers import Dense\n",
    "from tensorflow.keras.optimizers import Adam"
   ],
   "outputs": [],
   "execution_count": 13
  },
  {
   "metadata": {
    "ExecuteTime": {
     "end_time": "2024-12-24T17:36:35.454399Z",
     "start_time": "2024-12-24T17:36:35.442439Z"
    }
   },
   "cell_type": "code",
   "source": "",
   "outputs": [],
   "execution_count": null
  },
  {
   "metadata": {
    "ExecuteTime": {
     "end_time": "2024-12-24T17:36:13.377032Z",
     "start_time": "2024-12-24T17:36:13.269881Z"
    }
   },
   "cell_type": "code",
   "source": "df = df.drop('Label', axis = 1)",
   "outputs": [],
   "execution_count": 15
  },
  {
   "metadata": {
    "ExecuteTime": {
     "end_time": "2024-12-24T17:36:23.878335Z",
     "start_time": "2024-12-24T17:36:23.760459Z"
    }
   },
   "cell_type": "code",
   "source": "df.info()",
   "outputs": [
    {
     "name": "stdout",
     "output_type": "stream",
     "text": [
      "<class 'pandas.core.frame.DataFrame'>\n",
      "RangeIndex: 555278 entries, 0 to 555277\n",
      "Data columns (total 84 columns):\n",
      " #   Column                    Non-Null Count   Dtype  \n",
      "---  ------                    --------------   -----  \n",
      " 0   Unnamed: 0.1              555278 non-null  int64  \n",
      " 1   Unnamed: 0                555278 non-null  int64  \n",
      " 2   originp                   555278 non-null  int64  \n",
      " 3   responp                   555278 non-null  int64  \n",
      " 4   flow_duration             555278 non-null  float64\n",
      " 5   fwd_pkts_tot              555278 non-null  int64  \n",
      " 6   bwd_pkts_tot              555278 non-null  int64  \n",
      " 7   fwd_data_pkts_tot         555278 non-null  int64  \n",
      " 8   bwd_data_pkts_tot         555278 non-null  int64  \n",
      " 9   fwd_pkts_per_sec          555278 non-null  float64\n",
      " 10  bwd_pkts_per_sec          555278 non-null  float64\n",
      " 11  flow_pkts_per_sec         555278 non-null  float64\n",
      " 12  down_up_ratio             555278 non-null  float64\n",
      " 13  fwd_header_size_tot       555278 non-null  int64  \n",
      " 14  fwd_header_size_min       555278 non-null  int64  \n",
      " 15  fwd_header_size_max       555278 non-null  int64  \n",
      " 16  bwd_header_size_tot       555278 non-null  int64  \n",
      " 17  bwd_header_size_min       555278 non-null  int64  \n",
      " 18  bwd_header_size_max       555278 non-null  int64  \n",
      " 19  flow_FIN_flag_count       555278 non-null  int64  \n",
      " 20  flow_SYN_flag_count       555278 non-null  int64  \n",
      " 21  flow_RST_flag_count       555278 non-null  int64  \n",
      " 22  fwd_PSH_flag_count        555278 non-null  int64  \n",
      " 23  bwd_PSH_flag_count        555278 non-null  int64  \n",
      " 24  flow_ACK_flag_count       555278 non-null  int64  \n",
      " 25  fwd_URG_flag_count        555278 non-null  int64  \n",
      " 26  bwd_URG_flag_count        555278 non-null  int64  \n",
      " 27  flow_CWR_flag_count       555278 non-null  int64  \n",
      " 28  flow_ECE_flag_count       555278 non-null  int64  \n",
      " 29  fwd_pkts_payload.min      555278 non-null  float64\n",
      " 30  fwd_pkts_payload.max      555278 non-null  float64\n",
      " 31  fwd_pkts_payload.tot      555278 non-null  float64\n",
      " 32  fwd_pkts_payload.avg      555278 non-null  float64\n",
      " 33  fwd_pkts_payload.std      555278 non-null  float64\n",
      " 34  bwd_pkts_payload.min      555278 non-null  float64\n",
      " 35  bwd_pkts_payload.max      555278 non-null  float64\n",
      " 36  bwd_pkts_payload.tot      555278 non-null  float64\n",
      " 37  bwd_pkts_payload.avg      555278 non-null  float64\n",
      " 38  bwd_pkts_payload.std      555278 non-null  float64\n",
      " 39  flow_pkts_payload.min     555278 non-null  float64\n",
      " 40  flow_pkts_payload.max     555278 non-null  float64\n",
      " 41  flow_pkts_payload.tot     555278 non-null  float64\n",
      " 42  flow_pkts_payload.avg     555278 non-null  float64\n",
      " 43  flow_pkts_payload.std     555278 non-null  float64\n",
      " 44  fwd_iat.min               555278 non-null  float64\n",
      " 45  fwd_iat.max               555278 non-null  float64\n",
      " 46  fwd_iat.tot               555278 non-null  float64\n",
      " 47  fwd_iat.avg               555278 non-null  float64\n",
      " 48  fwd_iat.std               555278 non-null  float64\n",
      " 49  bwd_iat.min               555278 non-null  float64\n",
      " 50  bwd_iat.max               555278 non-null  float64\n",
      " 51  bwd_iat.tot               555278 non-null  float64\n",
      " 52  bwd_iat.avg               555278 non-null  float64\n",
      " 53  bwd_iat.std               555278 non-null  float64\n",
      " 54  flow_iat.min              555278 non-null  float64\n",
      " 55  flow_iat.max              555278 non-null  float64\n",
      " 56  flow_iat.tot              555278 non-null  float64\n",
      " 57  flow_iat.avg              555278 non-null  float64\n",
      " 58  flow_iat.std              555278 non-null  float64\n",
      " 59  payload_bytes_per_second  555278 non-null  float64\n",
      " 60  fwd_subflow_pkts          555278 non-null  float64\n",
      " 61  bwd_subflow_pkts          555278 non-null  float64\n",
      " 62  fwd_subflow_bytes         555278 non-null  float64\n",
      " 63  bwd_subflow_bytes         555278 non-null  float64\n",
      " 64  fwd_bulk_bytes            555278 non-null  float64\n",
      " 65  bwd_bulk_bytes            555278 non-null  float64\n",
      " 66  fwd_bulk_packets          555278 non-null  float64\n",
      " 67  bwd_bulk_packets          555278 non-null  float64\n",
      " 68  fwd_bulk_rate             555278 non-null  float64\n",
      " 69  bwd_bulk_rate             555278 non-null  float64\n",
      " 70  active.min                555278 non-null  float64\n",
      " 71  active.max                555278 non-null  float64\n",
      " 72  active.tot                555278 non-null  float64\n",
      " 73  active.avg                555278 non-null  float64\n",
      " 74  active.std                555278 non-null  float64\n",
      " 75  idle.min                  555278 non-null  float64\n",
      " 76  idle.max                  555278 non-null  float64\n",
      " 77  idle.tot                  555278 non-null  float64\n",
      " 78  idle.avg                  555278 non-null  float64\n",
      " 79  idle.std                  555278 non-null  float64\n",
      " 80  fwd_init_window_size      555278 non-null  int64  \n",
      " 81  bwd_init_window_size      555278 non-null  int64  \n",
      " 82  fwd_last_window_size      555278 non-null  int64  \n",
      " 83  traffic_category          555278 non-null  object \n",
      "dtypes: float64(56), int64(27), object(1)\n",
      "memory usage: 355.9+ MB\n"
     ]
    }
   ],
   "execution_count": 16
  },
  {
   "metadata": {
    "ExecuteTime": {
     "end_time": "2024-12-24T17:36:39.794875Z",
     "start_time": "2024-12-24T17:36:39.628449Z"
    }
   },
   "cell_type": "code",
   "source": [
    "import matplotlib.pyplot as plt\n",
    "\n",
    "#Distribusi kategori data\n",
    "category_distribution = df['traffic_category'].value_counts()\n",
    "print(category_distribution)\n",
    "# Visualisasi distribusi kategori\n",
    "category_distribution.plot(kind='bar', color='skyblue')\n",
    "plt.title('Distribusi Kategori Traffic')\n",
    "plt.xlabel('Kategori')\n",
    "plt.ylabel('Jumlah')\n",
    "plt.xticks(rotation=45)\n",
    "plt.show()"
   ],
   "outputs": [
    {
     "name": "stdout",
     "output_type": "stream",
     "text": [
      "traffic_category\n",
      "Benign                 347431\n",
      "Background             170151\n",
      "Probing                 23388\n",
      "Bruteforce               5884\n",
      "Bruteforce-XML           5145\n",
      "XMRIGCC CryptoMiner      3279\n",
      "Name: count, dtype: int64\n"
     ]
    },
    {
     "data": {
      "text/plain": [
       "<Figure size 640x480 with 1 Axes>"
      ],
      "image/png": "[encoded data removed]"
     },
     "metadata": {},
     "output_type": "display_data"
    }
   ],
   "execution_count": 17
  },
  {
   "metadata": {
    "ExecuteTime": {
     "end_time": "2024-12-16T12:24:40.522374Z",
     "start_time": "2024-12-16T12:24:32.778714Z"
    }
   },
   "cell_type": "code",
   "source": [
    "# Pisahkan fitur (X) dan target (y)\n",
    "X = df.drop('traffic_category', axis=1)  # ganti 'target_column' dengan nama kolom target yang sesuai\n",
    "y = df['traffic_category']  # ganti 'target_column' dengan nama kolom target yang sesuai\n",
    "\n",
    "from imblearn.over_sampling import RandomOverSampler\n",
    "\n",
    "ros = RandomOverSampler(random_state=42)\n",
    "X_resampled, y_resampled = ros.fit_resample(X, y)"
   ],
   "outputs": [
    {
     "name": "stderr",
     "output_type": "stream",
     "text": [
      "D:\\Dunia Perkuliahan\\Semester 5\\Deep Learning\\env\\lib\\site-packages\\sklearn\\base.py:484: FutureWarning: `BaseEstimator._check_n_features` is deprecated in 1.6 and will be removed in 1.7. Use `sklearn.utils.validation._check_n_features` instead.\n",
      "  warnings.warn(\n",
      "D:\\Dunia Perkuliahan\\Semester 5\\Deep Learning\\env\\lib\\site-packages\\sklearn\\base.py:493: FutureWarning: `BaseEstimator._check_feature_names` is deprecated in 1.6 and will be removed in 1.7. Use `sklearn.utils.validation._check_feature_names` instead.\n",
      "  warnings.warn(\n"
     ]
    }
   ],
   "execution_count": 85
  },
  {
   "metadata": {
    "ExecuteTime": {
     "end_time": "2024-12-16T12:24:44.787686Z",
     "start_time": "2024-12-16T12:24:40.616576Z"
    }
   },
   "cell_type": "code",
   "source": [
    "from sklearn.model_selection import train_test_split\n",
    "from imblearn.over_sampling import RandomOverSampler\n",
    "\n",
    "# Split data terlebih dahulu\n",
    "X_train, X_test, y_train, y_test = train_test_split(\n",
    "    X_resampled, y_resampled, test_size=0.2, random_state=42, stratify=y_resampled\n",
    ")"
   ],
   "outputs": [],
   "execution_count": 86
  },
  {
   "cell_type": "code",
   "metadata": {
    "ExecuteTime": {
     "end_time": "2024-12-16T12:24:45.064986Z",
     "start_time": "2024-12-16T12:24:44.851469Z"
    }
   },
   "source": [
    "import matplotlib.pyplot as plt\n",
    "\n",
    "#Distribusi kategori data\n",
    "category_distribution = y_train.value_counts()\n",
    "print(category_distribution)\n",
    "# Visualisasi distribusi kategori\n",
    "category_distribution.plot(kind='bar', color='skyblue')\n",
    "plt.title('Distribusi Kategori Traffic')\n",
    "plt.xlabel('Kategori')\n",
    "plt.ylabel('Jumlah')\n",
    "plt.xticks(rotation=45)\n",
    "plt.show()"
   ],
   "outputs": [
    {
     "name": "stdout",
     "output_type": "stream",
     "text": [
      "traffic_category\n",
      "Benign                 277945\n",
      "Bruteforce             277945\n",
      "XMRIGCC CryptoMiner    277945\n",
      "Background             277945\n",
      "Bruteforce-XML         277944\n",
      "Probing                277944\n",
      "Name: count, dtype: int64\n"
     ]
    },
    {
     "data": {
      "text/plain": [
       "<Figure size 640x480 with 1 Axes>"
      ],
      "image/png": "[encoded data removed]"
     },
     "metadata": {},
     "output_type": "display_data"
    }
   ],
   "execution_count": 87
  },
  {
   "metadata": {
    "ExecuteTime": {
     "end_time": "2024-12-16T12:24:45.218186Z",
     "start_time": "2024-12-16T12:24:45.205226Z"
    }
   },
   "cell_type": "code",
   "source": "",
   "outputs": [],
   "execution_count": null
  },
  {
   "metadata": {
    "ExecuteTime": {
     "end_time": "2024-12-16T12:24:45.234134Z",
     "start_time": "2024-12-16T12:24:45.223166Z"
    }
   },
   "cell_type": "code",
   "source": "",
   "outputs": [],
   "execution_count": null
  },
  {
   "metadata": {
    "ExecuteTime": {
     "end_time": "2024-12-16T12:24:48.821761Z",
     "start_time": "2024-12-16T12:24:45.296512Z"
    }
   },
   "cell_type": "code",
   "source": [
    "#Scaler\n",
    "from sklearn.preprocessing import StandardScaler\n",
    "\n",
    "# Inisialisasi scaler\n",
    "scaler = StandardScaler()\n",
    "\n",
    "# Terapkan scaling hanya pada data latih\n",
    "X_train_scaled = scaler.fit_transform(X_train)\n",
    "\n",
    "# Gunakan scaler yang sama untuk data uji\n",
    "X_test_scaled = scaler.transform(X_test)"
   ],
   "outputs": [],
   "execution_count": 88
  },
  {
   "metadata": {
    "ExecuteTime": {
     "end_time": "2024-12-16T12:24:49.178960Z",
     "start_time": "2024-12-16T12:24:48.869600Z"
    }
   },
   "cell_type": "code",
   "source": [
    "from sklearn.preprocessing import LabelEncoder\n",
    "from tensorflow.keras.utils import to_categorical\n",
    "\n",
    "# Inisialisasi encoder\n",
    "label_encoder = LabelEncoder()\n",
    "\n",
    "# Encode label string menjadi integer\n",
    "y_train_encoded = label_encoder.fit_transform(y_train)\n",
    "y_test_encoded = label_encoder.transform(y_test)\n",
    "\n",
    "# Konversi label integer ke one-hot encoding\n",
    "y_train_onehot = to_categorical(y_train_encoded)\n",
    "y_test_onehot = to_categorical(y_test_encoded)"
   ],
   "outputs": [],
   "execution_count": 89
  },
  {
   "metadata": {
    "ExecuteTime": {
     "end_time": "2024-12-16T12:24:49.240681Z",
     "start_time": "2024-12-16T12:24:49.228295Z"
    }
   },
   "cell_type": "code",
   "source": [
    "# Mapping label string ke integer\n",
    "label_mapping = dict(zip(label_encoder.classes_, range(len(label_encoder.classes_))))\n",
    "print(\"Mapping label:\", label_mapping)"
   ],
   "outputs": [
    {
     "name": "stdout",
     "output_type": "stream",
     "text": [
      "Mapping label: {'Background': 0, 'Benign': 1, 'Bruteforce': 2, 'Bruteforce-XML': 3, 'Probing': 4, 'XMRIGCC CryptoMiner': 5}\n"
     ]
    }
   ],
   "execution_count": 90
  },
  {
   "cell_type": "code",
   "metadata": {
    "ExecuteTime": {
     "end_time": "2024-12-16T12:28:04.263889Z",
     "start_time": "2024-12-16T12:24:49.288398Z"
    }
   },
   "source": [
    "from tensorflow.keras.models import Sequential\n",
    "from tensorflow.keras.layers import Dense, Dropout, Input\n",
    "from tensorflow.keras.optimizers import Adam\n",
    "from tensorflow.keras.callbacks import EarlyStopping\n",
    "\n",
    "# Membangun model neural network\n",
    "model = Sequential()\n",
    "\n",
    "# Input Layer\n",
    "model.add(Input(shape=(X_train_scaled.shape[1],)))\n",
    "\n",
    "# Hidden Layers\n",
    "model.add(Dense(units=128, activation='relu', kernel_regularizer='l2'))\n",
    "model.add(Dropout(0.3))  # Dropout untuk mencegah overfitting\n",
    "model.add(Dense(units=64, activation='relu', kernel_regularizer='l2'))\n",
    "model.add(Dropout(0.3))\n",
    "model.add(Dense(units=32, activation='relu', kernel_regularizer='l2'))\n",
    "\n",
    "# Output Layer (Multi-class Classification)\n",
    "model.add(Dense(units=y_train_onehot.shape[1], activation='softmax'))  # Softmax untuk multi-class\n",
    "\n",
    "# Compile Model\n",
    "optimizer = Adam(learning_rate=0.0001)  # Mengurangi learning rate\n",
    "model.compile(optimizer=optimizer, loss='categorical_crossentropy', metrics=['accuracy'])\n",
    "\n",
    "# Callback untuk Early Stopping\n",
    "early_stopping = EarlyStopping(monitor='val_loss', patience=5, restore_best_weights=True)\n",
    "\n",
    "# --------------------\n",
    "# Melatih Model\n",
    "# --------------------\n",
    "history = model.fit(\n",
    "    X_train_scaled, y_train_onehot,\n",
    "    epochs=5,\n",
    "    batch_size=64,\n",
    "    validation_data=(X_test_scaled, y_test_onehot),\n",
    "    callbacks=[early_stopping]\n",
    ")\n",
    "\n",
    "# --------------------\n",
    "# Evaluasi Model\n",
    "# --------------------\n",
    "loss, accuracy = model.evaluate(X_test_scaled, y_test_onehot)\n",
    "print(f\"Model accuracy: {accuracy}\")\n",
    "print(f\"Model Loss: {loss}\")\n"
   ],
   "outputs": [
    {
     "name": "stdout",
     "output_type": "stream",
     "text": [
      "Epoch 1/5\n",
      "\u001B[1m26058/26058\u001B[0m \u001B[32m━━━━━━━━━━━━━━━━━━━━\u001B[0m\u001B[37m\u001B[0m \u001B[1m38s\u001B[0m 1ms/step - accuracy: 0.9165 - loss: 0.9562 - val_accuracy: 0.9961 - val_loss: 0.1406\n",
      "Epoch 2/5\n",
      "\u001B[1m26058/26058\u001B[0m \u001B[32m━━━━━━━━━━━━━━━━━━━━\u001B[0m\u001B[37m\u001B[0m \u001B[1m36s\u001B[0m 1ms/step - accuracy: 0.9942 - loss: 0.1441 - val_accuracy: 0.9970 - val_loss: 0.1076\n",
      "Epoch 3/5\n",
      "\u001B[1m26058/26058\u001B[0m \u001B[32m━━━━━━━━━━━━━━━━━━━━\u001B[0m\u001B[37m\u001B[0m \u001B[1m36s\u001B[0m 1ms/step - accuracy: 0.9951 - loss: 0.1166 - val_accuracy: 0.9976 - val_loss: 0.0961\n",
      "Epoch 4/5\n",
      "\u001B[1m26058/26058\u001B[0m \u001B[32m━━━━━━━━━━━━━━━━━━━━\u001B[0m\u001B[37m\u001B[0m \u001B[1m36s\u001B[0m 1ms/step - accuracy: 0.9957 - loss: 0.1040 - val_accuracy: 0.9975 - val_loss: 0.0884\n",
      "Epoch 5/5\n",
      "\u001B[1m26058/26058\u001B[0m \u001B[32m━━━━━━━━━━━━━━━━━━━━\u001B[0m\u001B[37m\u001B[0m \u001B[1m36s\u001B[0m 1ms/step - accuracy: 0.9959 - loss: 0.0965 - val_accuracy: 0.9970 - val_loss: 0.0832\n",
      "\u001B[1m13029/13029\u001B[0m \u001B[32m━━━━━━━━━━━━━━━━━━━━\u001B[0m\u001B[37m\u001B[0m \u001B[1m11s\u001B[0m 827us/step - accuracy: 0.9970 - loss: 0.0834\n",
      "Model accuracy: 0.9969969987869263\n",
      "Model Loss: 0.08316051959991455\n"
     ]
    }
   ],
   "execution_count": 91
  },
  {
   "metadata": {
    "ExecuteTime": {
     "end_time": "2024-12-16T12:28:14.641343Z",
     "start_time": "2024-12-16T12:28:04.380829Z"
    }
   },
   "cell_type": "code",
   "source": [
    "from sklearn.metrics import confusion_matrix, classification_report\n",
    "import numpy as np\n",
    "\n",
    "# Prediksi menggunakan model pada data uji\n",
    "y_pred_prob = model.predict(X_test_scaled)  # Hasil probabilitas kelas\n",
    "\n",
    "# Konversi probabilitas ke label prediksi\n",
    "y_pred = np.argmax(y_pred_prob, axis=1)  # Argmax untuk mengambil kelas dengan probabilitas tertinggi\n",
    "\n",
    "# Confusion Matrix\n",
    "cm = confusion_matrix(y_test_encoded, y_pred)\n",
    "\n",
    "# Menampilkan Confusion Matrix\n",
    "print(\"Confusion Matrix:\")\n",
    "print(cm)\n",
    "\n",
    "# Menampilkan Classification Report\n",
    "print(\"\\nClassification Report:\")\n",
    "print(classification_report(y_test_encoded, y_pred))\n"
   ],
   "outputs": [
    {
     "name": "stdout",
     "output_type": "stream",
     "text": [
      "\u001B[1m13029/13029\u001B[0m \u001B[32m━━━━━━━━━━━━━━━━━━━━\u001B[0m\u001B[37m\u001B[0m \u001B[1m8s\u001B[0m 595us/step\n",
      "Confusion Matrix:\n",
      "[[68607    57   629   193     0     0]\n",
      " [   18 69261   153     3     0    51]\n",
      " [   94     0 69392     0     0     0]\n",
      " [   54     0     0 69433     0     0]\n",
      " [    0     0     0     0 69487     0]\n",
      " [    0     0     0     0     0 69486]]\n",
      "\n",
      "Classification Report:\n",
      "              precision    recall  f1-score   support\n",
      "\n",
      "           0       1.00      0.99      0.99     69486\n",
      "           1       1.00      1.00      1.00     69486\n",
      "           2       0.99      1.00      0.99     69486\n",
      "           3       1.00      1.00      1.00     69487\n",
      "           4       1.00      1.00      1.00     69487\n",
      "           5       1.00      1.00      1.00     69486\n",
      "\n",
      "    accuracy                           1.00    416918\n",
      "   macro avg       1.00      1.00      1.00    416918\n",
      "weighted avg       1.00      1.00      1.00    416918\n",
      "\n"
     ]
    }
   ],
   "execution_count": 92
  },
  {
   "metadata": {
    "ExecuteTime": {
     "end_time": "2024-12-16T12:28:14.872460Z",
     "start_time": "2024-12-16T12:28:14.645148Z"
    }
   },
   "cell_type": "code",
   "source": [
    "import matplotlib.pyplot as plt\n",
    "\n",
    "# Plotting accuracy\n",
    "plt.plot(history.history['accuracy'], label='Training Accuracy')\n",
    "plt.plot(history.history['val_accuracy'], label='Validation Accuracy')\n",
    "plt.legend()\n",
    "plt.title('Model Accuracy')\n",
    "plt.xlabel('Epochs')\n",
    "plt.ylabel('Accuracy')\n",
    "plt.show()\n",
    "\n",
    "# Plotting loss\n",
    "plt.plot(history.history['loss'], label='Training Loss')\n",
    "plt.plot(history.history['val_loss'], label='Validation Loss')\n",
    "plt.legend()\n",
    "plt.title('Model Loss')\n",
    "plt.xlabel('Epochs')\n",
    "plt.ylabel('Loss')\n",
    "plt.show()\n"
   ],
   "outputs": [
    {
     "data": {
      "text/plain": [
       "<Figure size 640x480 with 1 Axes>"
      ],
      "image/png": "[encoded data removed]"
     },
     "metadata": {},
     "output_type": "display_data"
    },
    {
     "data": {
      "text/plain": [
       "<Figure size 640x480 with 1 Axes>"
      ],
      "image/png": "[encoded data removed]"
     },
     "metadata": {},
     "output_type": "display_data"
    }
   ],
   "execution_count": 93
  }
 ],
 "metadata": {
  "kernelspec": {
   "display_name": "base",
   "language": "python",
   "name": "python3"
  },
  "language_info": {
   "codemirror_mode": {
    "name": "ipython",
    "version": 3
   },
   "file_extension": ".py",
   "mimetype": "text/x-python",
   "name": "python",
   "nbconvert_exporter": "python",
   "pygments_lexer": "ipython3",
   "version": "3.10.9"
  }
 },
 "nbformat": 4,
 "nbformat_minor": 2
}
